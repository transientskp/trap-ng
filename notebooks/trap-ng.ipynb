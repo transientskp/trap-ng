{
 "cells": [
  {
   "cell_type": "code",
   "execution_count": 1,
   "metadata": {},
   "outputs": [],
   "source": [
    "import matplotlib\n",
    "%matplotlib inline\n",
    "import os\n",
    "import astropy\n",
    "import sourcefinder\n",
    "import logging\n",
    "import pandas\n",
    "from astropy.coordinates import SkyCoord\n",
    "import astropy.units as u"
   ]
  },
  {
   "cell_type": "code",
   "execution_count": 2,
   "metadata": {},
   "outputs": [],
   "source": [
    "datadir = \"../data/\"\n",
    "datafiles = [datadir + i for i in sorted(j for j in os.listdir(datadir) if j.endswith(\".fits\"))]"
   ]
  },
  {
   "cell_type": "code",
   "execution_count": 3,
   "metadata": {},
   "outputs": [],
   "source": [
    "# we can move this to a helper script\n",
    "from sourcefinder.accessors import open as open_accessor\n",
    "from sourcefinder.accessors import sourcefinder_image_from_accessor\n",
    "\n",
    "def extract_sources(path, margin=10, extraction_radius_pix=400, back_size_x=32, back_size_y=32,\n",
    "                    residuals=True, detection_threshold=5, analysis_threshold=3,\n",
    "                    deblend_nthresh=0, force_beam=True):\n",
    "\n",
    "    accessor = open_accessor(path, plane=0)\n",
    "    data_image = sourcefinder_image_from_accessor(accessor,\n",
    "                    margin=margin,\n",
    "                    radius=extraction_radius_pix,\n",
    "                    back_size_x=back_size_x,\n",
    "                    back_size_y=back_size_y)\n",
    "\n",
    "    return data_image.extract(\n",
    "        det=detection_threshold,\n",
    "        anl=analysis_threshold,\n",
    "        deblend_nthresh=deblend_nthresh,\n",
    "        force_beam=force_beam\n",
    ")"
   ]
  },
  {
   "cell_type": "code",
   "execution_count": 4,
   "metadata": {},
   "outputs": [
    {
     "name": "stderr",
     "output_type": "stream",
     "text": [
      "No handlers could be found for logger \"sourcefinder.accessors.fitsimage\"\n",
      "/home/gijs/Work/pyse/sourcefinder/image.py:761: RuntimeWarning: invalid value encountered in greater\n",
      "  (self.data_bgsubbed > analysisthresholdmap) &\n"
     ]
    }
   ],
   "source": [
    "sources = extract_sources(datafiles[0])"
   ]
  },
  {
   "cell_type": "code",
   "execution_count": 5,
   "metadata": {
    "collapsed": true
   },
   "outputs": [],
   "source": [
    "first_astro_sources = SkyCoord([SkyCoord(ra=i.ra.value*u.degree, dec=i.dec.value*u.degree, frame='icrs') for i in sources])"
   ]
  },
  {
   "cell_type": "code",
   "execution_count": 6,
   "metadata": {},
   "outputs": [],
   "source": [
    "lightcurves = [[i.flux.value] for i in sources]"
   ]
  },
  {
   "cell_type": "code",
   "execution_count": 7,
   "metadata": {},
   "outputs": [
    {
     "name": "stdout",
     "output_type": "stream",
     "text": [
      "../data/20160831151015UTC_S307.5_I16x1_W6_A1.5.fits\n",
      "../data/20160831151016UTC_S307.5_I16x1_W6_A1.5.fits\n",
      "../data/20160831151017UTC_S307.5_I16x1_W6_A1.5.fits\n",
      "../data/20160831151018UTC_S307.5_I16x1_W6_A1.5.fits\n",
      "../data/20160831151019UTC_S307.5_I16x1_W6_A1.5.fits\n",
      "../data/20160831151020UTC_S307.5_I16x1_W6_A1.5.fits\n",
      "../data/20160831151021UTC_S307.5_I16x1_W6_A1.5.fits\n",
      "../data/20160831151022UTC_S307.5_I16x1_W6_A1.5.fits\n",
      "../data/20160831151023UTC_S307.5_I16x1_W6_A1.5.fits\n",
      "../data/20160831151024UTC_S307.5_I16x1_W6_A1.5.fits\n",
      "../data/20160831151025UTC_S307.5_I16x1_W6_A1.5.fits\n",
      "../data/20160831151026UTC_S307.5_I16x1_W6_A1.5.fits\n",
      "../data/20160831151027UTC_S307.5_I16x1_W6_A1.5.fits\n",
      "../data/20160831151028UTC_S307.5_I16x1_W6_A1.5.fits\n",
      "../data/20160831151029UTC_S307.5_I16x1_W6_A1.5.fits\n",
      "../data/20160831151030UTC_S307.5_I16x1_W6_A1.5.fits\n",
      "../data/20160831151031UTC_S307.5_I16x1_W6_A1.5.fits\n",
      "../data/20160831151032UTC_S307.5_I16x1_W6_A1.5.fits\n"
     ]
    }
   ],
   "source": [
    "for datafile in datafiles[1:]:\n",
    "    print(datafile)\n",
    "    next_sources = extract_sources(datafile)\n",
    "    next_astro_sources = SkyCoord([SkyCoord(ra=i.ra.value*u.degree, dec=i.dec.value*u.degree, frame='icrs') for i in next_sources])\n",
    "    idx1, idx2, sep2d, _ = astropy.coordinates.search_around_sky(next_astro_sources,\n",
    "                                                                 first_astro_sources,\n",
    "                                                                 seplimit=5.68*u.degree,\n",
    "                                                                 storekdtree=True)\n",
    "    [lightcurves[i2].append(next_sources[i1].flux.value) for i1, i2 in zip(idx1, idx2)]"
   ]
  },
  {
   "cell_type": "code",
   "execution_count": 11,
   "metadata": {},
   "outputs": [
    {
     "data": {
      "image/png": "[encoded data removed]",
      "text/plain": [
       "<matplotlib.figure.Figure at 0x7f755c7f1c90>"
      ]
     },
     "metadata": {},
     "output_type": "display_data"
    }
   ],
   "source": [
    "_ = pandas.DataFrame(lightcurves[1]).plot()"
   ]
  }
 ],
 "metadata": {
  "kernelspec": {
   "display_name": "Python 2",
   "language": "python",
   "name": "python2"
  },
  "language_info": {
   "codemirror_mode": {
    "name": "ipython",
    "version": 2
   },
   "file_extension": ".py",
   "mimetype": "text/x-python",
   "name": "python",
   "nbconvert_exporter": "python",
   "pygments_lexer": "ipython2",
   "version": "2.7.13"
  }
 },
 "nbformat": 4,
 "nbformat_minor": 2
}
